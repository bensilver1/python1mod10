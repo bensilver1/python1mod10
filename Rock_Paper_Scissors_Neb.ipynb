{
 "cells": [
  {
   "cell_type": "markdown",
   "id": "57ed9470-cd72-4f85-8e00-f53b2bea4476",
   "metadata": {},
   "source": [
    "Create a program where the user can play a game of rock, paper, scissors against a computer. Set a play choice (rock, paper, or scissors) for the computer player and during the program, request for the user to input their play choice.\r\n",
    "\r\n",
    "The rules in Rock, Paper, Scissors are:\r\n",
    "\r\n",
    "Rock beats scissors\r\n",
    "Scissors beats paper\r\n",
    "Paper beat\n",
    "s rock\r\n",
    "If the user wins, then display \"You win!\" If they lose against the computer, then display \"You lose.\" If the computer and the user have the same play choice, display \"It's a draw.\"\r\n",
    "\r\n",
    "BONUS: Randomize the play choice for the computer (hint: Python has a library called random). Also ask the user if they would like to play again. If they do, start the game again but if not, thank the user for playing the game."
   ]
  },
  {
   "cell_type": "code",
   "execution_count": 1,
   "id": "ddb471f9-3dd5-4c8b-85a7-a7097d933605",
   "metadata": {},
   "outputs": [
    {
     "name": "stdin",
     "output_type": "stream",
     "text": [
      "Enter a play from your choice of: Rock, Paper, Scissors: paper\n"
     ]
    },
    {
     "name": "stdout",
     "output_type": "stream",
     "text": [
      "Computer:\tscissors\n",
      "User:\t\tpaper\n",
      "You lose!\n"
     ]
    },
    {
     "name": "stdin",
     "output_type": "stream",
     "text": [
      "Do you want to play again [yes or no]: h\n"
     ]
    },
    {
     "name": "stdout",
     "output_type": "stream",
     "text": [
      "h is not a valid input, please try again.\n"
     ]
    }
   ],
   "source": [
    "#import random library\n",
    "import random as rand\n",
    "\n",
    "# define function to determine play outcome based on computer play and user play as inputs\n",
    "def playoutcome(comp_play,user_play):\n",
    "    if user_play == comp_play:\n",
    "        message = \"It's a draw.\"\n",
    "        #print(\"It's a draw.\")\n",
    "    elif (user_play == 'rock') and (comp_play == 'scissors'):\n",
    "        message = \"You win!\"\n",
    "        #print(\"You win!\")\n",
    "    elif (user_play == 'scissors') and (comp_play == 'paper'):\n",
    "        message = \"You win!\"\n",
    "        #print(\"You win!\")\n",
    "    elif (user_play == 'paper') and (comp_play == 'rock'):\n",
    "        message = \"You win!\"\n",
    "        #print(\"You win!\")\n",
    "    elif (user_play == 'scissors') and (comp_play == 'rock'):\n",
    "        message = \"You lose!\"\n",
    "        #print(\"You lose!\")\n",
    "    elif (user_play == 'paper') and (comp_play == 'scissors'):\n",
    "        message = \"You lose!\"\n",
    "        #print(\"You lose!\")\n",
    "    elif (user_play == 'rock') and (comp_play == 'paper'):\n",
    "        message = \"You lose!\"\n",
    "        #print(\"You lose!\")\n",
    "    else:\n",
    "        message = \"Not a valid choice!\"\n",
    "    return message\n",
    "\n",
    "# all possible plays in a list\n",
    "play_choice = ['rock', 'paper', 'scissors']\n",
    "\n",
    "\n",
    "play_again = True \n",
    "\n",
    "\n",
    "while play_again :\n",
    "    play_again = False\n",
    "    # get user play from user\n",
    "    user_play = (input(\"Enter a play from your choice of: Rock, Paper, Scissors:\")).lower()\n",
    "\n",
    "    # randomly generate computer play\n",
    "    play_pos = rand.randint(0,2)\n",
    "    comp_play = play_choice[play_pos]\n",
    "\n",
    "    # print computer and user plays\n",
    "    print(f\"Computer:\\t{comp_play}\")\n",
    "    print(f\"User:\\t\\t{user_play}\")\n",
    "\n",
    "    # call function to determine winner of play\n",
    "    playou_outcome = playoutcome(comp_play,user_play)\n",
    "    print(playou_outcome)\n",
    "\n",
    "    play = (input(\"Do you want to play again [yes or no]:\")).lower()\n",
    "\n",
    "    if play == 'yes':\n",
    "        play_again = True\n",
    "    elif play == 'no':\n",
    "        play_again = False\n",
    "        print(f\"Thank you for playing.\")\n",
    "    else:\n",
    "        print(f\"{play} is not a valid input, please try again.\")\n",
    "\n",
    "\n",
    "\n"
   ]
  },
  {
   "cell_type": "code",
   "execution_count": null,
   "id": "f512827b-8c7d-4c6c-adb5-fae4fddfe2bb",
   "metadata": {},
   "outputs": [],
   "source": []
  },
  {
   "cell_type": "code",
   "execution_count": null,
   "id": "49f3ddae-6d4c-4d2b-9863-d2e79b6e21d5",
   "metadata": {},
   "outputs": [],
   "source": []
  }
 ],
 "metadata": {
  "kernelspec": {
   "display_name": "Python 3 (ipykernel)",
   "language": "python",
   "name": "python3"
  },
  "language_info": {
   "codemirror_mode": {
    "name": "ipython",
    "version": 3
   },
   "file_extension": ".py",
   "mimetype": "text/x-python",
   "name": "python",
   "nbconvert_exporter": "python",
   "pygments_lexer": "ipython3",
   "version": "3.11.7"
  }
 },
 "nbformat": 4,
 "nbformat_minor": 5
}
